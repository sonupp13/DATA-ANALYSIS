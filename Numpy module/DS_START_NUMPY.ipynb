{
  "cells": [
    {
      "cell_type": "markdown",
      "metadata": {
        "id": "view-in-github",
        "colab_type": "text"
      },
      "source": [
        "<a href=\"https://colab.research.google.com/github/sonupp13/Data-analysis/blob/main/Numpy%20module/DS_START_NUMPY.ipynb\" target=\"_parent\"><img src=\"https://colab.research.google.com/assets/colab-badge.svg\" alt=\"Open In Colab\"/></a>"
      ]
    },
    {
      "cell_type": "markdown",
      "metadata": {
        "id": "reS9cSil9KKu"
      },
      "source": [
        "**NUMPY**"
      ]
    },
    {
      "cell_type": "code",
      "execution_count": null,
      "metadata": {
        "colab": {
          "base_uri": "https://localhost:8080/"
        },
        "id": "kMJvPOb79PA3",
        "outputId": "e5a6705e-d24d-4d8f-c2bd-d52cba30429f"
      },
      "outputs": [
        {
          "name": "stdout",
          "output_type": "stream",
          "text": [
            "[1 2 3]\n"
          ]
        },
        {
          "data": {
            "text/plain": [
              "numpy.ndarray"
            ]
          },
          "execution_count": 3,
          "metadata": {},
          "output_type": "execute_result"
        }
      ],
      "source": [
        " #CREATING  1D ARRAY\n",
        "import numpy as np\n",
        "array1d= np.array([1,2,3])\n",
        "print(array1d)\n",
        "type(array1d)"
      ]
    },
    {
      "cell_type": "code",
      "execution_count": null,
      "metadata": {
        "colab": {
          "base_uri": "https://localhost:8080/"
        },
        "id": "7F9kawzBAwWF",
        "outputId": "b54e2a54-2914-4bf8-bf96-050d35a0dd44"
      },
      "outputs": [
        {
          "name": "stdout",
          "output_type": "stream",
          "text": [
            "[[1 2 3]\n",
            " [4 5 6]]\n"
          ]
        }
      ],
      "source": [
        "#CREATING  2D ARRAY\n",
        "import numpy as np\n",
        "array2d=np.array([\n",
        "                 [1,2,3],\n",
        "                 [4,5,6]\n",
        "                 ])\n",
        "print(array2d)"
      ]
    },
    {
      "cell_type": "code",
      "execution_count": null,
      "metadata": {
        "colab": {
          "base_uri": "https://localhost:8080/"
        },
        "id": "21UPYdjPBlGv",
        "outputId": "70a98871-70dd-4c96-990e-e46c17e15e55"
      },
      "outputs": [
        {
          "name": "stdout",
          "output_type": "stream",
          "text": [
            "[[[ 1  2  3]\n",
            "  [ 4  5  6]]\n",
            "\n",
            " [[ 5  6  7]\n",
            "  [ 8  9 10]]]\n",
            "(2, 2, 3)\n"
          ]
        }
      ],
      "source": [
        "#Creating 3D Arrays\n",
        "import numpy as np\n",
        "array3d=np.array(\n",
        "    [\n",
        "      [\n",
        "          [1,2,3],\n",
        "          [4,5,6]\n",
        "      ],\n",
        "      [\n",
        "          [5,6,7],\n",
        "          [8,9,10]\n",
        "      ]\n",
        "       ]\n",
        "        )\n",
        "print(array3d)\n",
        "print(array3d.shape)"
      ]
    },
    {
      "cell_type": "code",
      "execution_count": null,
      "metadata": {
        "colab": {
          "base_uri": "https://localhost:8080/"
        },
        "id": "w0vXw7rRGm-U",
        "outputId": "2f7fcc69-be02-4ff1-8ce6-c7a3d1aa81ed"
      },
      "outputs": [
        {
          "name": "stdout",
          "output_type": "stream",
          "text": [
            "[1 2 3]\n",
            "3\n",
            "----------------------------------------------------\n",
            "[[1 2 3]\n",
            " [4 5 6]]\n",
            "2\n",
            "----------------------------------------------------\n",
            "[[[ 1  2  3]\n",
            "  [ 4  5  6]]\n",
            "\n",
            " [[ 5  6  7]\n",
            "  [ 8  9 10]]]\n",
            "5\n"
          ]
        }
      ],
      "source": [
        "#ARRAY INEXING\n",
        "import numpy as np\n",
        "array1d= np.array([1,2,3])\n",
        "print(array1d)\n",
        "e=array1d[2]\n",
        "print(e)\n",
        "\n",
        "print(\"----------------------------------------------------\")\n",
        "\n",
        "import numpy as np\n",
        "array2d=np.array([\n",
        "                 [1,2,3],\n",
        "                 [4,5,6]\n",
        "                 ])\n",
        "print(array2d)\n",
        "h=array2d[0,1] #indexing start from 0 both row and column\n",
        "print(h)\n",
        "\n",
        "print(\"----------------------------------------------------\")\n",
        "\n",
        "import numpy as np\n",
        "array3d=np.array(\n",
        "    [\n",
        "      [\n",
        "          [1,2,3],\n",
        "          [4,5,6]\n",
        "      ],\n",
        "      [\n",
        "          [5,6,7],\n",
        "          [8,9,10]\n",
        "      ]\n",
        "       ]\n",
        "        )\n",
        "print(array3d)\n",
        "\n",
        "k=array3d[0,1,1] #indexing start from 0 both row and column\n",
        "print(k)"
      ]
    },
    {
      "cell_type": "code",
      "execution_count": null,
      "metadata": {
        "colab": {
          "base_uri": "https://localhost:8080/"
        },
        "id": "awCDC8DDLBuh",
        "outputId": "916277b2-eb79-4bbb-9845-1e87f888595a"
      },
      "outputs": [
        {
          "name": "stdout",
          "output_type": "stream",
          "text": [
            "[1 2 3]\n",
            "[1 2]\n",
            "-----------------------------\n",
            "[[1 2 3]\n",
            " [4 5 6]]\n",
            "[[4 5 6]]\n"
          ]
        }
      ],
      "source": [
        "#slicing\n",
        "\n",
        "import numpy as np\n",
        "array1d= np.array([1,2,3])\n",
        "print(array1d)\n",
        "print(array1d[0:2])\n",
        "\n",
        "print(\"-----------------------------\")\n",
        "\n",
        "\n",
        "\n",
        "\n",
        "\n"
      ]
    },
    {
      "cell_type": "code",
      "execution_count": null,
      "metadata": {
        "colab": {
          "base_uri": "https://localhost:8080/"
        },
        "id": "MgYsDLLwMGwq",
        "outputId": "c22d465d-7d7a-42ce-dc8b-72e6e2ead348"
      },
      "outputs": [
        {
          "name": "stdout",
          "output_type": "stream",
          "text": [
            "[1 2 3]\n",
            "int64\n",
            "------------------------\n",
            "['1' '2' '3' 's']\n",
            "<U21\n",
            "------------------------\n",
            "[1.  2.  3.2]\n",
            "float64\n"
          ]
        }
      ],
      "source": [
        "#datatype finding\n",
        "import numpy as np\n",
        "array1d= np.array([1,2,3])\n",
        "print(array1d)\n",
        "print(array1d.dtype)\n",
        "\n",
        "print(\"------------------------\")\n",
        "import numpy as np\n",
        "array1d= np.array([1,2,3,\"s\"])\n",
        "print(array1d)\n",
        "print(array1d.dtype)\n",
        "\n",
        "print(\"------------------------\")\n",
        "import numpy as np\n",
        "array1d= np.array([1,2,3.2])\n",
        "print(array1d)\n",
        "print(array1d.dtype)"
      ]
    },
    {
      "cell_type": "code",
      "execution_count": null,
      "metadata": {
        "colab": {
          "base_uri": "https://localhost:8080/"
        },
        "id": "MNiU9ZmCNBeD",
        "outputId": "87d4bac3-5759-45ca-b82e-df105e559b13"
      },
      "outputs": [
        {
          "name": "stdout",
          "output_type": "stream",
          "text": [
            "[1 2 3]\n",
            "(3,)\n",
            "------------------------\n",
            "(2, 3)\n",
            "----------------------------------------------------\n",
            "(2, 2, 3)\n"
          ]
        }
      ],
      "source": [
        "#shape of an array\n",
        "import numpy as np\n",
        "array1d= np.array([1,2,3])\n",
        "print(array1d)\n",
        "print(array1d.shape)\n",
        "\n",
        "print(\"------------------------\")\n",
        "\n",
        "import numpy as np\n",
        "array2d=np.array([\n",
        "                 [1,2,3],\n",
        "                 [4,5,6]\n",
        "                 ])\n",
        "print(array2d.shape)\n",
        "print(\"----------------------------------------------------\")\n",
        "\n",
        "import numpy as np\n",
        "array3d=np.array(\n",
        "    [\n",
        "      [\n",
        "          [1,2,3],\n",
        "          [4,5,6]\n",
        "      ],\n",
        "      [\n",
        "          [5,6,7],\n",
        "          [8,9,1]\n",
        "      ]\n",
        "       ]\n",
        "        )\n",
        "print(array3d.shape)"
      ]
    },
    {
      "cell_type": "code",
      "execution_count": null,
      "metadata": {
        "colab": {
          "base_uri": "https://localhost:8080/"
        },
        "id": "Yj3EJsT3N76j",
        "outputId": "fc0f9198-49c6-4a51-eeed-bca587f6a187"
      },
      "outputs": [
        {
          "name": "stdout",
          "output_type": "stream",
          "text": [
            "[1 2 3]\n",
            "[[1]\n",
            " [2]\n",
            " [3]]\n",
            "----------------------------------------------------\n",
            "[[1 2 3]\n",
            " [4 5 6]]\n"
          ]
        }
      ],
      "source": [
        "#reshaping\n",
        "import numpy as np\n",
        "array1d= np.array([1,2,3])\n",
        "print(array1d)\n",
        "print(array1d.reshape(3,1))\n",
        "\n",
        "print(\"----------------------------------------------------\")\n",
        "import numpy as np\n",
        "arr = np.array([1, 2, 3, 4, 5, 6])\n",
        "reshaped = arr.reshape(2, 3)\n",
        "print(reshaped)\n",
        "\n"
      ]
    },
    {
      "cell_type": "code",
      "execution_count": null,
      "metadata": {
        "colab": {
          "base_uri": "https://localhost:8080/"
        },
        "id": "QIZM60VDO42i",
        "outputId": "e4e241f2-200b-44f2-e756-8c4a4433ded1"
      },
      "outputs": [
        {
          "name": "stdout",
          "output_type": "stream",
          "text": [
            "1\n",
            "2\n",
            "3\n"
          ]
        }
      ],
      "source": [
        "#iteration\n",
        "import numpy as np\n",
        "arr1d = np.array([1, 2, 3])\n",
        "for item in arr1d:\n",
        "  print(item)\n"
      ]
    },
    {
      "cell_type": "code",
      "execution_count": null,
      "metadata": {
        "colab": {
          "base_uri": "https://localhost:8080/"
        },
        "id": "MVHL9uQWPaLr",
        "outputId": "963cf085-c81a-466f-f060-2f988215d890"
      },
      "outputs": [
        {
          "name": "stdout",
          "output_type": "stream",
          "text": [
            "1\n",
            "------------------------\n",
            "2\n",
            "----------------------------------------------------\n",
            "3\n"
          ]
        }
      ],
      "source": [
        "#finding dimension of an array.\n",
        "import numpy as np\n",
        "array1d= np.array([1,2,3])\n",
        "\n",
        "print(array1d.ndim)\n",
        "\n",
        "\n",
        "print(\"------------------------\")\n",
        "\n",
        "import numpy as np\n",
        "array2d=np.array([\n",
        "                 [1,2,3],\n",
        "                 [4,5,6]\n",
        "                 ])\n",
        "print(array2d.ndim)\n",
        "print(\"----------------------------------------------------\")\n",
        "\n",
        "\n",
        "import numpy as np\n",
        "array3d=np.array(\n",
        "    [\n",
        "      [\n",
        "          [1,2,3],\n",
        "          [4,5,6]\n",
        "      ],\n",
        "      [\n",
        "          [5,6,7],\n",
        "          [8,9,1]\n",
        "      ]\n",
        "       ]\n",
        "        )\n",
        "print(array3d.ndim)"
      ]
    },
    {
      "cell_type": "code",
      "execution_count": null,
      "metadata": {
        "colab": {
          "base_uri": "https://localhost:8080/"
        },
        "id": "rnF6ioWxN_Q4",
        "outputId": "43944a2d-5525-4059-fe9e-23f93df14316"
      },
      "outputs": [
        {
          "name": "stdout",
          "output_type": "stream",
          "text": [
            "3\n",
            "------------------------\n",
            "6\n",
            "------------------------\n",
            "12\n"
          ]
        }
      ],
      "source": [
        "#size or number of elements\n",
        "import numpy as np\n",
        "array1d= np.array([1,2,3])\n",
        "\n",
        "print(array1d.size)\n",
        "\n",
        "\n",
        "print(\"------------------------\")\n",
        "\n",
        "\n",
        "import numpy as np\n",
        "array2d=np.array([\n",
        "                 [1,2,3],\n",
        "                 [4,5,6]\n",
        "                 ])\n",
        "print(array2d.size)\n",
        "\n",
        "print(\"------------------------\")\n",
        "\n",
        "import numpy as np\n",
        "array3d=np.array(\n",
        "    [\n",
        "      [\n",
        "          [1,2,3],\n",
        "          [4,5,6]\n",
        "      ],\n",
        "      [\n",
        "          [5,6,7],\n",
        "          [8,9,1]\n",
        "      ]\n",
        "       ]\n",
        "        )\n",
        "print(array3d.size)"
      ]
    },
    {
      "cell_type": "code",
      "execution_count": null,
      "metadata": {
        "colab": {
          "base_uri": "https://localhost:8080/"
        },
        "id": "xnRPELPO0ZRh",
        "outputId": "6c7e2779-92af-4697-ba76-45f062a573e5"
      },
      "outputs": [
        {
          "name": "stdout",
          "output_type": "stream",
          "text": [
            "int64\n",
            "float64\n"
          ]
        }
      ],
      "source": [
        "#typecast\n",
        "import numpy as np\n",
        "s=np.array([1,2,3,4,5])\n",
        "print(s.dtype)\n",
        "d=s.astype('float64')\n",
        "print(d.dtype)"
      ]
    },
    {
      "cell_type": "code",
      "execution_count": null,
      "metadata": {
        "colab": {
          "base_uri": "https://localhost:8080/"
        },
        "id": "fAkG1SuS1gjs",
        "outputId": "5c75ade7-b74a-4d3d-c827-ca3042706d17"
      },
      "outputs": [
        {
          "name": "stdout",
          "output_type": "stream",
          "text": [
            "[1 2 3 4 5 6]\n"
          ]
        }
      ],
      "source": [
        "# concatenating of array  using numpy.concatenate():\n",
        "\n",
        "import numpy as np\n",
        "arr1 = np.array([1, 2, 3])\n",
        "arr2 = np.array([4, 5, 6])\n",
        "s=np.concatenate((arr1,arr2),axis=0)\n",
        "print(s)"
      ]
    },
    {
      "cell_type": "code",
      "execution_count": null,
      "metadata": {
        "colab": {
          "base_uri": "https://localhost:8080/"
        },
        "id": "a_U8L7LH3CqQ",
        "outputId": "2565a79d-3002-448f-92ef-21736689c2c8"
      },
      "outputs": [
        {
          "name": "stdout",
          "output_type": "stream",
          "text": [
            "[array([1, 2]), array([3, 4]), array([5, 6])]\n",
            "[array([1, 2, 3]), array([4, 5, 6])]\n"
          ]
        }
      ],
      "source": [
        "# Splitting Arrays using numpy.split():\n",
        "import numpy as np\n",
        "arr = np.array([1, 2, 3, 4, 5, 6])\n",
        "# Split the array into two subarrays along the 0th axis\n",
        "subarrays = np.split(arr, 3, axis=0)\n",
        "print(subarrays)\n",
        "d=np.split(arr, 2, axis=0)\n",
        "print(d)\n",
        "\n",
        "###### ALWAYS EVEN NUMBER OTHERWISE SPLITTING IS NOT POSSIBLE\n"
      ]
    },
    {
      "cell_type": "code",
      "execution_count": null,
      "metadata": {
        "colab": {
          "base_uri": "https://localhost:8080/"
        },
        "id": "z-gvqrkL3-OZ",
        "outputId": "da8145d1-ad38-48f7-ee0b-845a3a7362a0"
      },
      "outputs": [
        {
          "name": "stdout",
          "output_type": "stream",
          "text": [
            "(array([3, 4, 5]),)\n"
          ]
        }
      ],
      "source": [
        "# Searching Arrays using numpy.where():\n",
        "import numpy as np\n",
        "arr = np.array([1, 2,3, 4, 5, 6])\n",
        "s=np.where(arr>3)\n",
        "print(s)\n",
        "\n",
        "#here the results are based on indexing numbers\n"
      ]
    },
    {
      "cell_type": "code",
      "execution_count": null,
      "metadata": {
        "colab": {
          "base_uri": "https://localhost:8080/"
        },
        "id": "_hK7mztk4toO",
        "outputId": "6cde07d0-0c4e-4612-ef47-95cdc6860575"
      },
      "outputs": [
        {
          "name": "stdout",
          "output_type": "stream",
          "text": [
            "[1 2 3 4 5]\n"
          ]
        }
      ],
      "source": [
        "# Sorting Arrays using numpy.sort():\n",
        "arr = np.array([3, 1, 2, 4, 5])\n",
        "sorted_arr = np.sort(arr)\n",
        "print(sorted_arr)\n",
        "\n"
      ]
    },
    {
      "cell_type": "code",
      "execution_count": null,
      "metadata": {
        "colab": {
          "base_uri": "https://localhost:8080/"
        },
        "id": "1GH9jfas6YUr",
        "outputId": "7fe90d7c-a011-470b-a377-07fc189c679a"
      },
      "outputs": [
        {
          "name": "stdout",
          "output_type": "stream",
          "text": [
            "[4 5 6]\n",
            "------------------------\n",
            "[41 40 43]\n"
          ]
        }
      ],
      "source": [
        "# Filtering Arrays using Boolean Indexing:\n",
        "import numpy as np\n",
        "arr = np.array([1, 2, 3, 4, 5, 6])\n",
        "condition = arr > 3\n",
        "filtered_arr = arr[condition] # Create a new array with\n",
        "print(filtered_arr)\n",
        "print(\"------------------------\")\n",
        "arr = np.array([41, 40, 42, 43, 44])\n",
        "x = [True, True, False, True, False]\n",
        "newarr = arr[x]\n",
        "print(newarr)"
      ]
    },
    {
      "cell_type": "code",
      "execution_count": null,
      "metadata": {
        "colab": {
          "base_uri": "https://localhost:8080/"
        },
        "id": "LuZ405vk-xoE",
        "outputId": "41ec4845-4c7e-4b84-c1b0-0ad4cc2b5414"
      },
      "outputs": [
        {
          "name": "stdout",
          "output_type": "stream",
          "text": [
            "[[1 2 3]\n",
            " [4 5 6]\n",
            " [7 8 9]]\n",
            "-------------------------------\n",
            "[[1 2 3]\n",
            " [4 5 6]]\n"
          ]
        }
      ],
      "source": [
        "# 2D Slicing Rows and Columns\n",
        "import numpy as np\n",
        "table = np.array([\n",
        "[1, 2, 3],\n",
        "[4, 5, 6],\n",
        "[7, 8, 9]\n",
        "])\n",
        "print(table)\n",
        "#ROW SLICING\n",
        "print(\"-------------------------------\")\n",
        "row=table[0:2,:]\n",
        "print(row)\n"
      ]
    },
    {
      "cell_type": "code",
      "execution_count": null,
      "metadata": {
        "colab": {
          "base_uri": "https://localhost:8080/"
        },
        "id": "qUWBKJarr4YI",
        "outputId": "98ca08f8-279e-43eb-a792-71ac7c4f416e"
      },
      "outputs": [
        {
          "name": "stdout",
          "output_type": "stream",
          "text": [
            "[[2 3]\n",
            " [5 6]\n",
            " [8 9]]\n"
          ]
        }
      ],
      "source": [
        "import numpy as np\n",
        "table = np.array([\n",
        "[1, 2, 3],\n",
        "[4, 5, 6],\n",
        "[7, 8, 9]\n",
        "])\n",
        "#column slicing\n",
        "colm=table[:,1:]\n",
        "print(colm)"
      ]
    },
    {
      "cell_type": "code",
      "execution_count": null,
      "metadata": {
        "colab": {
          "base_uri": "https://localhost:8080/"
        },
        "id": "5LEzCshcC_Yr",
        "outputId": "ab85b913-f23a-4b8b-8152-fa207eb4fb62"
      },
      "outputs": [
        {
          "name": "stdout",
          "output_type": "stream",
          "text": [
            "[[[1 2 3]\n",
            "  [4 5 6]]\n",
            "\n",
            " [[5 6 7]\n",
            "  [8 9 1]]]\n",
            "_______________________________\n",
            "[[8 9 1]]\n"
          ]
        }
      ],
      "source": [
        "#3D SLICING\n",
        "import numpy as np\n",
        "array3d=np.array(\n",
        "    [\n",
        "      [\n",
        "          [1,2,3],\n",
        "          [4,5,6]\n",
        "      ],\n",
        "      [\n",
        "          [5,6,7],\n",
        "          [8,9,1]\n",
        "      ]\n",
        "       ]\n",
        "        )\n",
        "print(array3d)\n",
        "#row slicing\n",
        "print(\"_______________________________\")\n",
        "\n",
        "s=array3d[1,1:,:]\n",
        "print(s)\n"
      ]
    },
    {
      "cell_type": "code",
      "execution_count": null,
      "metadata": {
        "colab": {
          "base_uri": "https://localhost:8080/"
        },
        "id": "tDHRa3lYEbJA",
        "outputId": "3220bbe4-5308-4e59-f885-66c4b9244321"
      },
      "outputs": [
        {
          "name": "stdout",
          "output_type": "stream",
          "text": [
            "[[6 7]\n",
            " [9 1]]\n"
          ]
        }
      ],
      "source": [
        "#column slicing 0f 3d arry\n",
        "d=array3d[1,:,1:]\n",
        "print(d)"
      ]
    },
    {
      "cell_type": "code",
      "execution_count": null,
      "metadata": {
        "colab": {
          "base_uri": "https://localhost:8080/"
        },
        "id": "EFDHUYv-E0lF",
        "outputId": "2e0b0455-9dcc-4117-d4fe-e530c7009e27"
      },
      "outputs": [
        {
          "output_type": "stream",
          "name": "stdout",
          "text": [
            "[[4.7945303e-310 0.0000000e+000 0.0000000e+000]\n",
            " [0.0000000e+000 0.0000000e+000 0.0000000e+000]\n",
            " [0.0000000e+000 0.0000000e+000 0.0000000e+000]\n",
            " [0.0000000e+000 0.0000000e+000 0.0000000e+000]]\n"
          ]
        }
      ],
      "source": [
        "import numpy as np\n",
        "uninitialized_array = np.empty([4, 3])\n",
        "print(uninitialized_array)"
      ]
    },
    {
      "cell_type": "code",
      "execution_count": null,
      "metadata": {
        "colab": {
          "base_uri": "https://localhost:8080/"
        },
        "id": "YrHiGjqVHWLw",
        "outputId": "f488cc24-3da9-498c-e11f-acbc61129e3f"
      },
      "outputs": [
        {
          "output_type": "stream",
          "name": "stdout",
          "text": [
            "[[0. 0. 0.]\n",
            " [0. 0. 0.]\n",
            " [0. 0. 0.]]\n",
            "______________________________________\n",
            "[[0 0 0]\n",
            " [0 0 0]\n",
            " [0 0 0]]\n"
          ]
        }
      ],
      "source": [
        "import numpy as np\n",
        "s=np.zeros([3,3])\n",
        "print(s)\n",
        "print(\"______________________________________\")\n",
        "import numpy as np\n",
        "d=np.zeros([3,3],int)#with out int it will be float\n",
        "print(d)"
      ]
    },
    {
      "cell_type": "code",
      "source": [
        "import numpy as np\n",
        "s=np.ones([3,3])\n",
        "print(s)\n",
        "print(\"______________________________________\")\n",
        "import numpy as np\n",
        "d=np.ones([3,3],int)#with out int it will be float\n",
        "print(d)"
      ],
      "metadata": {
        "id": "-9KKnjO84YV0",
        "colab": {
          "base_uri": "https://localhost:8080/"
        },
        "outputId": "4ab59371-e3fe-46af-9f2c-2a8ce0c0e90a"
      },
      "execution_count": null,
      "outputs": [
        {
          "output_type": "stream",
          "name": "stdout",
          "text": [
            "[[1. 1. 1.]\n",
            " [1. 1. 1.]\n",
            " [1. 1. 1.]]\n",
            "______________________________________\n",
            "[[1 1 1]\n",
            " [1 1 1]\n",
            " [1 1 1]]\n"
          ]
        }
      ]
    },
    {
      "cell_type": "code",
      "source": [
        "import numpy as np\n",
        "s= np.arange(1,6)\n",
        "print(s)\n",
        "d= np.arange(1,6,2,int)\n",
        "print(d)"
      ],
      "metadata": {
        "colab": {
          "base_uri": "https://localhost:8080/"
        },
        "id": "7EgwL0idHTXy",
        "outputId": "1bec17eb-004b-4f7c-ccdd-7e58a3cc9092"
      },
      "execution_count": null,
      "outputs": [
        {
          "output_type": "stream",
          "name": "stdout",
          "text": [
            "[1 2 3 4 5]\n",
            "[1 3 5]\n"
          ]
        }
      ]
    },
    {
      "cell_type": "code",
      "source": [
        "import numpy as np\n",
        "random_array = np.random.random((4, 3))\n",
        "print(random_array)\n",
        "random_integral_array = np.random.randint(0, 5, size=(2, 3,\n",
        "4))\n",
        "print(random_integral_array)\n"
      ],
      "metadata": {
        "colab": {
          "base_uri": "https://localhost:8080/"
        },
        "id": "Gru-Wm1ZISz8",
        "outputId": "ba01ac54-8599-4a13-c77d-7c8ba662594d"
      },
      "execution_count": null,
      "outputs": [
        {
          "output_type": "stream",
          "name": "stdout",
          "text": [
            "[[0.55183918 0.47049211 0.2136932 ]\n",
            " [0.42193136 0.2659404  0.94462275]\n",
            " [0.64900987 0.95463818 0.09595374]\n",
            " [0.08358129 0.53893378 0.40087169]]\n",
            "[[[0 0 3 0]\n",
            "  [2 0 0 2]\n",
            "  [3 0 4 1]]\n",
            "\n",
            " [[2 0 2 3]\n",
            "  [0 4 4 0]\n",
            "  [0 4 2 0]]]\n"
          ]
        }
      ]
    },
    {
      "cell_type": "code",
      "source": [
        "import numpy as np\n",
        "a = np.full((3, 3), 30)\n",
        "print(a)\n",
        "a = np.identity(4)\n",
        "print(a)\n"
      ],
      "metadata": {
        "colab": {
          "base_uri": "https://localhost:8080/"
        },
        "id": "WHffIwzoIjKs",
        "outputId": "495bd569-45bf-4c99-f3a9-af5fefc9e0b1"
      },
      "execution_count": null,
      "outputs": [
        {
          "output_type": "stream",
          "name": "stdout",
          "text": [
            "[[30 30 30]\n",
            " [30 30 30]\n",
            " [30 30 30]]\n",
            "[[1. 0. 0. 0.]\n",
            " [0. 1. 0. 0.]\n",
            " [0. 0. 1. 0.]\n",
            " [0. 0. 0. 1.]]\n"
          ]
        }
      ]
    },
    {
      "cell_type": "code",
      "source": [
        "#mean median std var etc\n",
        "import numpy as np\n",
        "data = np.array([1, 2, 3, 4, 5])\n",
        "mean_value = np.mean(data)\n",
        "print(mean_value)\n",
        "median_value=np.median(data)\n",
        "print(median_value)\n",
        "std_deviation = np.std(data)\n",
        "print(std_deviation)\n",
        "variance = np.var(data)\n",
        "print(variance)\n",
        "\n"
      ],
      "metadata": {
        "colab": {
          "base_uri": "https://localhost:8080/"
        },
        "id": "a4TCmX_kI9gB",
        "outputId": "0b243219-e3a6-4f5c-fc38-0d8a0fa9eb75"
      },
      "execution_count": null,
      "outputs": [
        {
          "output_type": "stream",
          "name": "stdout",
          "text": [
            "3.0\n",
            "3.0\n",
            "1.4142135623730951\n",
            "2.0\n"
          ]
        }
      ]
    },
    {
      "cell_type": "code",
      "source": [
        "#min max sum prod.\n",
        "import numpy as np\n",
        "data = np.array([1, 2, 3, 4, 5])\n",
        "print(np.sum(data))\n",
        "print(np.prod(data))\n",
        "print(np.min(data))\n",
        "print(np.max(data))"
      ],
      "metadata": {
        "colab": {
          "base_uri": "https://localhost:8080/"
        },
        "id": "aOGwvqV2JrS2",
        "outputId": "f2616625-ad5c-4fe7-c820-87737ba0dc3a"
      },
      "execution_count": null,
      "outputs": [
        {
          "output_type": "stream",
          "name": "stdout",
          "text": [
            "15\n",
            "120\n",
            "1\n",
            "5\n"
          ]
        }
      ]
    }
  ],
  "metadata": {
    "colab": {
      "provenance": [],
      "authorship_tag": "ABX9TyOVJnBLH4kpkqHoaedP5/Hn",
      "include_colab_link": true
    },
    "kernelspec": {
      "display_name": "Python 3",
      "name": "python3"
    },
    "language_info": {
      "name": "python"
    }
  },
  "nbformat": 4,
  "nbformat_minor": 0
}